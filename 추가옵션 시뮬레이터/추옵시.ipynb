{
 "cells": [
  {
   "cell_type": "code",
   "execution_count": 1,
   "id": "ccb502e0-a61b-483d-8a69-30d32666c520",
   "metadata": {},
   "outputs": [],
   "source": [
    "from random import sample, choices"
   ]
  },
  {
   "cell_type": "code",
   "execution_count": 2,
   "id": "7c2f7ed6-496a-437a-a01c-f67d8060678b",
   "metadata": {},
   "outputs": [],
   "source": [
    "armor_options = ['STR', 'DEX', 'LUK', 'INT', ['STR', 'DEX'], ['STR', 'INT'], ['STR', 'LUK'], \\\n",
    "                 ['DEX', 'INT'], ['DEX', 'LUK'], ['INT', 'LUK'], '올스탯', \\\n",
    "                '최대 HP', '최대 MP', '착용 레벨 감소', '방어력', '공격력', '마력', '이동속도', '점프력']\n",
    "\n",
    "armor_divisions = {0: ['STR', 'DEX', 'LUK', 'INT', '방어력'],\n",
    "                   1: [['STR', 'DEX'], ['STR', 'INT'], ['STR', 'LUK'], ['DEX', 'INT'], ['DEX', 'LUK'], ['INT', 'LUK']],\n",
    "                   2: ['최대 HP', '최대 MP'],\n",
    "                   3: ['착용 레벨 감소'],\n",
    "                   4: ['공격력', '마력', '올스탯', '이동속도', '점프력']}"
   ]
  },
  {
   "cell_type": "code",
   "execution_count": 3,
   "id": "0c317b44-297c-4375-ae19-999679106412",
   "metadata": {},
   "outputs": [],
   "source": [
    "def Score_Simulator(level, main_stat = 'STR', main_atkmgc = '공격력', as_score = 10, atkmgc_score = 4, item = '강환불'):\n",
    "    options_indices = sample(range(19), 4)\n",
    "    \n",
    "    data = [3, 4, 5, 6, 7]\n",
    "    if level == 150:\n",
    "        data = [[8* grade for grade in data],\n",
    "                [4*grade for grade in data]]\n",
    "    elif level == 160:\n",
    "        data = [[9* grade for grade in data],\n",
    "                [5*grade for grade in data]]\n",
    "    elif level == 200:\n",
    "        data = [[11* grade for grade in data],\n",
    "                [6*grade for grade in data]]\n",
    "\n",
    "    options = [armor_options[i] for i in options_indices]\n",
    "    data += [[3*level*grade for grade in [3, 4, 5, 6, 7]],\n",
    "             [-15, -20, -25, -30, -35],\n",
    "             [3, 4, 5, 6, 7]]\n",
    "    \n",
    "    if item == '강환불':\n",
    "        probs = [0.2, 0.3, 0.36, 0.14, 0]\n",
    "    elif item == '영환불':\n",
    "        probs = [0, 0.29, 0.45, 0.25, 0.01]\n",
    "    \n",
    "    options_kinds = [(options[i], key) for key, value in armor_divisions.items() for i in range(4) if options[i] in value]\n",
    "    final_result = dict()\n",
    "    final_result[main_stat] = 0; final_result[main_atkmgc] = 0; final_result['올스탯'] = 0\n",
    "    \n",
    "    for i in range(4):\n",
    "        option_name = options_kinds[i][0]; option_kind = options_kinds[i][1]\n",
    "        options_grade = choices(population = [0, 1, 2, 3, 4], weights = probs, k = 1)[0]\n",
    "        option = data[option_kind][options_grade]\n",
    "        \n",
    "        if type(option_name) is list:\n",
    "            for j in range(2):\n",
    "                temp_option_name = option_name[j]\n",
    "                if temp_option_name in final_result.keys():\n",
    "                    final_result[temp_option_name] += option\n",
    "                else:\n",
    "                    final_result[temp_option_name] = option\n",
    "        else:\n",
    "            if option_name in final_result.keys():\n",
    "                final_result[option_name] += option\n",
    "            else:\n",
    "                final_result[option_name] = option\n",
    "    \n",
    "\n",
    "    final_score = final_result[main_stat] + as_score * final_result['올스탯'] + atkmgc_score * final_result[main_atkmgc]\n",
    "    \n",
    "    return final_score"
   ]
  },
  {
   "cell_type": "code",
   "execution_count": 4,
   "id": "4f3038c5-8511-43af-a8e7-4a59aaf2eb07",
   "metadata": {},
   "outputs": [],
   "source": [
    "def score_proportion(standard_score, level = 200, as_score = 10.125, atkmgc_score = 5.45, item = '영환불', iterations = 10000):\n",
    "    result = (Score_Simulator(level = level, as_score = as_score, atkmgc_score = atkmgc_score, item = item) for i in range(iterations))\n",
    "    scores = [1 for score in result if score >= standard_score]\n",
    "    print('Proportion of Cases that satisfied the standard is {:.3f}% (total {})'.format(sum(scores) / iterations * 100, sum(scores)))\n",
    "    \n",
    "    return result"
   ]
  },
  {
   "cell_type": "code",
   "execution_count": 5,
   "id": "4bd60cfc-b14a-4103-bb68-df0bb82b8875",
   "metadata": {},
   "outputs": [
    {
     "name": "stdout",
     "output_type": "stream",
     "text": [
      "Proportion of Cases that satisfied the standard is 2.186% (total 2186)\n",
      "Proportion of Cases that satisfied the standard is 1.066% (total 1066)\n",
      "Proportion of Cases that satisfied the standard is 0.474% (total 474)\n",
      "Proportion of Cases that satisfied the standard is 0.180% (total 180)\n"
     ]
    }
   ],
   "source": [
    "level = 160\n",
    "score_proportion(standard_score = 100, level = level, item = '강환불', iterations = 100000)\n",
    "score_proportion(standard_score = 110, level = level, item = '강환불', iterations = 100000)\n",
    "score_proportion(standard_score = 120, level = level, item = '강환불', iterations = 100000)\n",
    "score_proportion(standard_score = 130, level = level, item = '강환불', iterations = 100000)\n",
    "None"
   ]
  },
  {
   "cell_type": "code",
   "execution_count": 6,
   "id": "521721fb-0364-4653-9d0b-bfcc9b9d2417",
   "metadata": {},
   "outputs": [
    {
     "name": "stdout",
     "output_type": "stream",
     "text": [
      "Proportion of Cases that satisfied the standard is 4.141% (total 4141)\n",
      "Proportion of Cases that satisfied the standard is 2.111% (total 2111)\n",
      "Proportion of Cases that satisfied the standard is 1.087% (total 1087)\n",
      "Proportion of Cases that satisfied the standard is 0.468% (total 468)\n"
     ]
    }
   ],
   "source": [
    "level = 160\n",
    "score_proportion(standard_score = 100, level = level, iterations = 100000)\n",
    "score_proportion(standard_score = 110, level = level, iterations = 100000)\n",
    "score_proportion(standard_score = 120, level = level, iterations = 100000)\n",
    "score_proportion(standard_score = 130, level = level, iterations = 100000)\n",
    "None"
   ]
  },
  {
   "cell_type": "code",
   "execution_count": 7,
   "id": "a159d821-fe37-4f52-b291-7868877bf2c7",
   "metadata": {},
   "outputs": [
    {
     "name": "stdout",
     "output_type": "stream",
     "text": [
      "Proportion of Cases that satisfied the standard is 4.221% (total 4221)\n",
      "Proportion of Cases that satisfied the standard is 2.349% (total 2349)\n",
      "Proportion of Cases that satisfied the standard is 1.266% (total 1266)\n",
      "Proportion of Cases that satisfied the standard is 0.577% (total 577)\n"
     ]
    }
   ],
   "source": [
    "level = 200\n",
    "score_proportion(standard_score = 100, level = level, item = '강환불', iterations = 100000)\n",
    "score_proportion(standard_score = 110, level = level, item = '강환불', iterations = 100000)\n",
    "score_proportion(standard_score = 120, level = level, item = '강환불', iterations = 100000)\n",
    "score_proportion(standard_score = 130, level = level, item = '강환불', iterations = 100000)\n",
    "None"
   ]
  },
  {
   "cell_type": "code",
   "execution_count": 8,
   "id": "d70e7979-b04c-4720-8b60-82e504f90653",
   "metadata": {},
   "outputs": [
    {
     "name": "stdout",
     "output_type": "stream",
     "text": [
      "Proportion of Cases that satisfied the standard is 7.139% (total 7139)\n",
      "Proportion of Cases that satisfied the standard is 4.456% (total 4456)\n",
      "Proportion of Cases that satisfied the standard is 2.565% (total 2565)\n",
      "Proportion of Cases that satisfied the standard is 1.361% (total 1361)\n"
     ]
    }
   ],
   "source": [
    "level = 200\n",
    "score_proportion(standard_score = 100, level = level, iterations = 100000)\n",
    "score_proportion(standard_score = 110, level = level, iterations = 100000)\n",
    "score_proportion(standard_score = 120, level = level, iterations = 100000)\n",
    "score_proportion(standard_score = 130, level = level, iterations = 100000)\n",
    "None"
   ]
  }
 ],
 "metadata": {
  "kernelspec": {
   "display_name": "main",
   "language": "python",
   "name": "main"
  },
  "language_info": {
   "codemirror_mode": {
    "name": "ipython",
    "version": 3
   },
   "file_extension": ".py",
   "mimetype": "text/x-python",
   "name": "python",
   "nbconvert_exporter": "python",
   "pygments_lexer": "ipython3",
   "version": "3.10.4"
  }
 },
 "nbformat": 4,
 "nbformat_minor": 5
}
