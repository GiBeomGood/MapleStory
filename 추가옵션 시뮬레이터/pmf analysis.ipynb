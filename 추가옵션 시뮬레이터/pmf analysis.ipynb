{
 "cells": [
  {
   "cell_type": "code",
   "execution_count": 1,
   "metadata": {},
   "outputs": [],
   "source": [
    "from itertools import combinations, product"
   ]
  },
  {
   "cell_type": "code",
   "execution_count": 2,
   "metadata": {},
   "outputs": [],
   "source": [
    "chart = {\n",
    "    'STR': [33, 44, 55, 66, 77],\n",
    "    'DEX': [33, 44, 55, 66, 77],\n",
    "    'LUK': [33, 44, 55, 66, 77],\n",
    "    'INT': [33, 44, 55, 66, 77],\n",
    "    'STR+DEX': [18, 24, 30, 36, 42],\n",
    "    'STR+LUK': [18, 24, 30, 36, 42],\n",
    "    'STR+INT': [18, 24, 30, 36, 42],\n",
    "    'DEX+LUK': [18, 24, 30, 36, 42],\n",
    "    'DEX+INT': [18, 24, 30, 36, 42],\n",
    "    'LUK+INT': [18, 24, 30, 36, 42],\n",
    "    'HP': [1800, 2400, 3000, 3600, 4200],\n",
    "    'MP': [1800, 2400, 3000, 3600, 4200],\n",
    "    'All': [3, 4, 5, 6, 7],\n",
    "    'Attack': [3, 4, 5, 6, 7],\n",
    "    'Magic': [3, 4, 5, 6, 7],\n",
    "    'Speed': [3, 4, 5, 6, 7],\n",
    "    'Jump': [3, 4, 5, 6, 7],\n",
    "    'Armor': [33, 44, 55, 66, 77],\n",
    "    'Level': [15, 20, 25, 30, 35],\n",
    "}\n",
    "\n",
    "available_options = ['STR', 'STR+DEX', 'STR+LUK', 'STR+INT', 'All', 'Attack']\n",
    "all_cases = list(combinations(chart.keys(), 4))  # 3,876 cases\n",
    "\n",
    "prob_chart = {\n",
    "    'strong': [0.2, 0.3, 0.36, 0.14, 0.],\n",
    "    'forever': [0., 0.29, 0.45, 0.25, 0.01],\n",
    "}"
   ]
  },
  {
   "cell_type": "code",
   "execution_count": 3,
   "metadata": {},
   "outputs": [],
   "source": [
    "def all_cases_given_case(case, kind='forever'):\n",
    "    case_available = [option for option in case if option in available_options]\n",
    "    option_count = len(case_available)\n",
    "    if option_count==0:\n",
    "        return [[0, 0, 0, 1]]\n",
    "    result = []; result_append = result.append  # (str, all, attack)\n",
    "\n",
    "    if kind=='strong':\n",
    "        grade_cases = product(*[range(4)]*option_count)\n",
    "    elif kind=='forever':\n",
    "        grade_cases = product(*[range(1, 5)]*option_count)\n",
    "    probs = prob_chart[kind]\n",
    "\n",
    "    for grades in grade_cases:\n",
    "        temp_result = dict(zip(available_options, [0, 0, 0, 0, 0, 0]))\n",
    "        prob = 1\n",
    "        for grade in grades:\n",
    "            prob *= probs[grade]\n",
    "\n",
    "        for index, option in enumerate(case_available):\n",
    "            temp_result[option] = chart[option][grades[index]]\n",
    "        \n",
    "        temp_result = list(temp_result.values())\n",
    "        result_append([sum(temp_result[:-2]), *temp_result[-2:], prob])  # (str, all, attack, prob)\n",
    "    \n",
    "    return result"
   ]
  },
  {
   "cell_type": "code",
   "execution_count": 4,
   "metadata": {},
   "outputs": [],
   "source": [
    "def option_prob_analysis(object_value, all_value=10.0, attack_value=4.0, kind='forever'):\n",
    "    total_prob = 1\n",
    "    stat_calculator = lambda str, all, attack: str + all*all_value + attack*attack_value\n",
    "    results = []; results_extend = results.extend\n",
    "    for case in all_cases:\n",
    "        temp_results = all_cases_given_case(case, kind=kind)\n",
    "        for (str, all, attack, prob) in temp_results:\n",
    "            if stat_calculator(str, all, attack) >= object_value:\n",
    "                total_prob += prob\n",
    "    \n",
    "    return total_prob / 3876"
   ]
  },
  {
   "cell_type": "code",
   "execution_count": 5,
   "metadata": {},
   "outputs": [
    {
     "name": "stdout",
     "output_type": "stream",
     "text": [
      "100 이상의 추옵을 영환불로 뽑을 확률은     6.6%  입니다.\n",
      "100 이상의 추옵을 영환불로 뽑는 기대값은   15.1개입니다.\n"
     ]
    }
   ],
   "source": [
    "object_value = 100\n",
    "all_value = 10.0\n",
    "attack_value = 4.0\n",
    "kind_name = '영환불'\n",
    "kind_mapper = {'강환불': 'strong', '영환불': 'forever'}\n",
    "\n",
    "option_prob = option_prob_analysis(object_value, all_value, attack_value, kind_mapper[kind_name])\n",
    "expectation = 1/option_prob\n",
    "print(f'{object_value:3d} 이상의 추옵을 {kind_name}로 뽑을 확률은   {option_prob:6.1%}  입니다.')\n",
    "print(f'{object_value:3d} 이상의 추옵을 {kind_name}로 뽑는 기대값은 {expectation:6.1f}개입니다.')"
   ]
  }
 ],
 "metadata": {
  "kernelspec": {
   "display_name": "kwon",
   "language": "python",
   "name": "python3"
  },
  "language_info": {
   "codemirror_mode": {
    "name": "ipython",
    "version": 3
   },
   "file_extension": ".py",
   "mimetype": "text/x-python",
   "name": "python",
   "nbconvert_exporter": "python",
   "pygments_lexer": "ipython3",
   "version": "3.11.2"
  }
 },
 "nbformat": 4,
 "nbformat_minor": 2
}
