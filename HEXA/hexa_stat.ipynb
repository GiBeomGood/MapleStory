{
 "cells": [
  {
   "cell_type": "code",
   "execution_count": 2,
   "metadata": {},
   "outputs": [],
   "source": [
    "p = np.array([0.35, 0.35, 0.35, 0.2, 0.2, 0.2, 0.2, 0.15, 0.1, 0.05, 0])\n",
    "q = 1 - p"
   ]
  },
  {
   "attachments": {},
   "cell_type": "markdown",
   "metadata": {},
   "source": [
    "\\begin{align*}\n",
    "P(X=10) &= \\prod_{i=0}^9 p_i \\cdot \\sum_{x_{0:10}} q_0^{x_0} \\cdots q_{10}^{x_{10}} \\\\\n",
    "\\sum_{i=0}^{10} x_i &= 10 \\Rightarrow {}_{11}H_{10} = {}_{20}C_{10}\n",
    "\\end{align*}"
   ]
  },
  {
   "attachments": {},
   "cell_type": "markdown",
   "metadata": {},
   "source": [
    "\\begin{align*}\n",
    "P(X=9) &= \\prod_{i=0}^8 p_i \\cdot \\sum_{x_{0:9}} q_0^{x_0} \\cdots q_{9}^{x_{9}} \\\\\n",
    "\\sum_{i=0}^{9} x_i &= 11 \\Rightarrow {}_{10}H_{11} = {}_{20}C_{9}\n",
    "\\end{align*}"
   ]
  },
  {
   "cell_type": "code",
   "execution_count": 3,
   "metadata": {},
   "outputs": [],
   "source": [
    "def all_cases(sum=10, num=11):\n",
    "    if num==1:\n",
    "        return [[sum]]\n",
    "\n",
    "    elif num==2:\n",
    "        return [[i, sum-i] for i in range(sum+1)]\n",
    "\n",
    "    else:\n",
    "        result = []\n",
    "        for i in range(sum+1):\n",
    "            result += [[i]+temp_result for temp_result in all_cases(sum-i, num-1)]\n",
    "        return result"
   ]
  },
  {
   "cell_type": "code",
   "execution_count": 4,
   "metadata": {},
   "outputs": [],
   "source": [
    "def level_prob_calculator(level):\n",
    "    c = p[:level].prod()\n",
    "    prob = 0\n",
    "\n",
    "    for xs in all_cases(sum=20-level, num=level+1):\n",
    "        prob += (q[:level+1].__pow__(xs)).prod()\n",
    "\n",
    "    prob *= c\n",
    "    return prob"
   ]
  },
  {
   "cell_type": "code",
   "execution_count": 5,
   "metadata": {},
   "outputs": [],
   "source": [
    "hexa_main_stat_probs = []\n",
    "for level in range(11):\n",
    "    hexa_main_stat_probs.append(level_prob_calculator(level))\n",
    "hexa_main_stat_probs = np.round(hexa_main_stat_probs, 6) * 100"
   ]
  },
  {
   "cell_type": "code",
   "execution_count": 6,
   "metadata": {},
   "outputs": [
    {
     "name": "stdout",
     "output_type": "stream",
     "text": [
      "Probability of Hexa Main Status with level  0 is  0.0181%\n",
      "Probability of Hexa Main Status with level  1 is  0.1952%\n",
      "Probability of Hexa Main Status with level  2 is  0.9985%\n",
      "Probability of Hexa Main Status with level  3 is 11.0237%\n",
      "Probability of Hexa Main Status with level  4 is 21.5075%\n",
      "Probability of Hexa Main Status with level  5 is 24.9608%\n",
      "Probability of Hexa Main Status with level  6 is 20.2083%\n",
      "Probability of Hexa Main Status with level  7 is 13.8499%\n",
      "Probability of Hexa Main Status with level  8 is  5.8161%\n",
      "Probability of Hexa Main Status with level  9 is  1.3055%\n",
      "Probability of Hexa Main Status with level 10 is  0.1163%\n"
     ]
    }
   ],
   "source": [
    "for level, prob in enumerate(hexa_main_stat_probs):\n",
    "    print(f'Probability of Hexa Main Status with level {level:2d} is {prob:7.4f}%')"
   ]
  },
  {
   "cell_type": "code",
   "execution_count": 7,
   "metadata": {},
   "outputs": [
    {
     "name": "stdout",
     "output_type": "stream",
     "text": [
      "Probability of Hexa Main Status with at least level  0 is 99.9999%\n",
      "Probability of Hexa Main Status with at least level  1 is 99.9818%\n",
      "Probability of Hexa Main Status with at least level  2 is 99.7866%\n",
      "Probability of Hexa Main Status with at least level  3 is 98.7881%\n",
      "Probability of Hexa Main Status with at least level  4 is 87.7644%\n",
      "Probability of Hexa Main Status with at least level  5 is 66.2569%\n",
      "Probability of Hexa Main Status with at least level  6 is 41.2961%\n",
      "Probability of Hexa Main Status with at least level  7 is 21.0878%\n",
      "Probability of Hexa Main Status with at least level  8 is  7.2379%\n",
      "Probability of Hexa Main Status with at least level  9 is  1.4218%\n",
      "Probability of Hexa Main Status with at least level 10 is  0.1163%\n"
     ]
    }
   ],
   "source": [
    "for level in range(11):\n",
    "    print(f'Probability of Hexa Main Status with at least level {level:2d} is {hexa_main_stat_probs[level:].sum():7.4f}%')"
   ]
  },
  {
   "cell_type": "code",
   "execution_count": null,
   "metadata": {},
   "outputs": [],
   "source": []
  }
 ],
 "metadata": {
  "kernelspec": {
   "display_name": "kwon",
   "language": "python",
   "name": "python3"
  },
  "language_info": {
   "codemirror_mode": {
    "name": "ipython",
    "version": 3
   },
   "file_extension": ".py",
   "mimetype": "text/x-python",
   "name": "python",
   "nbconvert_exporter": "python",
   "pygments_lexer": "ipython3",
   "version": "3.11.2"
  },
  "orig_nbformat": 4
 },
 "nbformat": 4,
 "nbformat_minor": 2
}
