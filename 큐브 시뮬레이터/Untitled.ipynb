{
 "cells": [
  {
   "cell_type": "code",
   "execution_count": 53,
   "id": "7f05cd2e-4ac5-4800-8bcc-be442655a290",
   "metadata": {},
   "outputs": [],
   "source": [
    "import pandas as pd\n",
    "from numpy import round"
   ]
  },
  {
   "cell_type": "code",
   "execution_count": 14,
   "id": "57a4ff16-46d2-463f-8dd9-d16b907c125e",
   "metadata": {},
   "outputs": [],
   "source": [
    "data = pd.read_csv('레드 큐브.csv')\n",
    "\n",
    "first = data.iloc[:, [0, 1]].copy()\n",
    "first = first.loc[first.isnull().sum(axis = 1) == 0, :].set_index('Option 1').reset_index(drop = False)\n",
    "second = data.iloc[:, [2, 3]].set_index('Option 2').reset_index(drop = False)\n",
    "third = data.iloc[:, [4, 5]].set_index('Option 3').reset_index(drop = False)"
   ]
  },
  {
   "cell_type": "code",
   "execution_count": 55,
   "id": "42628a8b",
   "metadata": {},
   "outputs": [],
   "source": [
    "def clean_chart(chart, i):\n",
    "    option_and_value = chart.loc[:, f'Option {i}']\n",
    "    chart = pd.concat([\\\n",
    "        pd.DataFrame([_ for _ in option_and_value.str.replace(' : ', ':').str.split(':')], columns = [f'Option {i}', f'Value {i}']), \\\n",
    "        chart.iloc[:, -1]\n",
    "        ],\n",
    "        axis = 1)\n",
    "    \n",
    "    str_to_float_indices = chart.iloc[:, 1].str.contains('%')\n",
    "\n",
    "    chart.loc[str_to_float_indices, f'Value {i}'] = chart.loc[str_to_float_indices, f'Value {i}'].str.replace('%', '')\n",
    "    chart.iloc[:, 1] = chart.iloc[:, 1].astype('float')\n",
    "    chart.loc[str_to_float_indices, f'Value {i}'] *= 0.01\n",
    "    chart.iloc[:, 1] = np.round(chart.iloc[:, 1], 2)\n",
    "    \n",
    "    chart.loc[str_to_float_indices, f'Option {i}'] = chart.loc[str_to_float_indices, f'Option {i}'] + '%'\n",
    "\n",
    "    return chart.values.tolist()\n",
    "\n",
    "\n",
    "def results_to_dict(result1, result2, result3):\n",
    "    option1, val1, prob1 = result1\n",
    "    result_dict = {}\n",
    "    result_prob = prob1\n",
    "\n",
    "    result_dict[option1] = val1\n",
    "\n",
    "    for option, value, prob in (result2, result3):\n",
    "        result_prob *= prob\n",
    "\n",
    "        if option in result_dict.keys() and option == '몬스터 방어율 무시%':\n",
    "            result_dict[option] = round(1 - (1 - result_dict[option]) * (1 - value))\n",
    "        \n",
    "        elif option in result_dict.keys() and option != '몬스터 방어율 무시%':\n",
    "            result_dict[option] += value\n",
    "            result_dict[option] = round(result_dict[option], 2)\n",
    "\n",
    "        else:\n",
    "            result_dict[option] = value\n",
    "    \n",
    "    result_dict = dict(sorted(result_dict.items()))\n",
    "    return result_dict, result_prob"
   ]
  },
  {
   "cell_type": "code",
   "execution_count": 16,
   "id": "12fc329d",
   "metadata": {},
   "outputs": [],
   "source": [
    "first = clean_chart(first, 1)\n",
    "second = clean_chart(second, 2)\n",
    "third = clean_chart(third, 3)"
   ]
  },
  {
   "cell_type": "code",
   "execution_count": 56,
   "id": "b5a0e574",
   "metadata": {},
   "outputs": [],
   "source": [
    "all_cases = [(result1, result2, result3) for result1 in first for result2 in second for result3 in third]\n",
    "all_results = [results_to_dict(*case) for case in all_cases]\n",
    "results, probs = zip(*all_results)"
   ]
  },
  {
   "cell_type": "code",
   "execution_count": 64,
   "id": "6b0e2977",
   "metadata": {},
   "outputs": [
    {
     "name": "stdout",
     "output_type": "stream",
     "text": [
      "{'공격력%': 0.3}\n",
      "{'공격력%': 0.33}\n",
      "{'공격력%': 0.33}\n",
      "{'공격력%': 0.36}\n",
      "0.0229603598%\n"
     ]
    }
   ],
   "source": [
    "target_option = '공격력%'\n",
    "target_value = 0.30\n",
    "final_prob = 0\n",
    "\n",
    "for idx, result in enumerate(results):\n",
    "    if target_option in result.keys() and result[target_option] >= target_value:\n",
    "        print(result)\n",
    "        final_prob += probs[idx]\n",
    "\n",
    "print(f'{round(final_prob * 100, 10)}%')"
   ]
  },
  {
   "cell_type": "code",
   "execution_count": null,
   "id": "77ff14bf",
   "metadata": {},
   "outputs": [],
   "source": []
  }
 ],
 "metadata": {
  "kernelspec": {
   "display_name": "main",
   "language": "python",
   "name": "main"
  },
  "language_info": {
   "codemirror_mode": {
    "name": "ipython",
    "version": 3
   },
   "file_extension": ".py",
   "mimetype": "text/x-python",
   "name": "python",
   "nbconvert_exporter": "python",
   "pygments_lexer": "ipython3",
   "version": "3.10.4"
  }
 },
 "nbformat": 4,
 "nbformat_minor": 5
}
