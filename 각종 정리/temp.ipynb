{
 "cells": [
  {
   "cell_type": "code",
   "execution_count": 1,
   "metadata": {},
   "outputs": [],
   "source": [
    "import numpy as np\n",
    "from math import factorial\n",
    "from numpy.random import choice\n",
    "from itertools import combinations_with_replacement\n"
   ]
  },
  {
   "cell_type": "code",
   "execution_count": 2,
   "metadata": {},
   "outputs": [],
   "source": [
    "def loss_analysis(trials):\n",
    "    prob_data = {\n",
    "        0: 0.55,\n",
    "        5: 0.3,\n",
    "        10: 0.15\n",
    "    }\n",
    "\n",
    "    all_cases = list(combinations_with_replacement(prob_data.keys(), trials))\n",
    "    all_cases_probs = dict()\n",
    "\n",
    "    for case in all_cases:\n",
    "        value_counts = [case.count(val) for val in set(case)]\n",
    "        prob = np.prod([prob_data[val] for val in case])\n",
    "\n",
    "        case_count = factorial(trials)\n",
    "        for count in value_counts:\n",
    "            case_count //= factorial(count)\n",
    "\n",
    "        prob *= case_count\n",
    "\n",
    "        sum_values = sum(case)\n",
    "        if sum_values in all_cases_probs.keys():\n",
    "            all_cases_probs[sum_values] += prob\n",
    "        else:\n",
    "            all_cases_probs[sum(case)] = prob\n",
    "\n",
    "    loss_prob = sum(val for key, val in all_cases_probs.items() if key <= trials*3)\n",
    "\n",
    "    return all_cases_probs, loss_prob"
   ]
  },
  {
   "cell_type": "code",
   "execution_count": 3,
   "metadata": {},
   "outputs": [
    {
     "name": "stdout",
     "output_type": "stream",
     "text": [
      " 1 times of trials -> 55.00%\n",
      " 2 times of trials -> 63.25%\n",
      " 3 times of trials -> 43.86%\n",
      " 4 times of trials -> 55.43%\n",
      " 5 times of trials -> 63.74%\n",
      " 6 times of trials -> 50.05%\n",
      " 7 times of trials -> 57.98%\n",
      " 8 times of trials -> 46.23%\n",
      " 9 times of trials -> 53.57%\n",
      "10 times of trials -> 59.98%\n",
      "11 times of trials -> 50.00%\n",
      "12 times of trials -> 56.14%\n",
      "13 times of trials -> 47.00%\n",
      "14 times of trials -> 52.86%\n",
      "15 times of trials -> 58.22%\n",
      "16 times of trials -> 49.98%\n",
      "17 times of trials -> 55.18%\n",
      "18 times of trials -> 47.43%\n",
      "19 times of trials -> 52.45%\n",
      "20 times of trials -> 57.15%\n",
      "21 times of trials -> 49.98%\n",
      "22 times of trials -> 54.56%\n",
      "23 times of trials -> 47.72%\n",
      "24 times of trials -> 52.18%\n",
      "25 times of trials -> 56.41%\n"
     ]
    }
   ],
   "source": [
    "for trials in range(1, 26):\n",
    "    _, loss_prob = loss_analysis(trials)\n",
    "    print(f'{trials:2d} times of trials -> {loss_prob:6.2%}')"
   ]
  }
 ],
 "metadata": {
  "kernelspec": {
   "display_name": "kwon",
   "language": "python",
   "name": "python3"
  },
  "language_info": {
   "codemirror_mode": {
    "name": "ipython",
    "version": 3
   },
   "file_extension": ".py",
   "mimetype": "text/x-python",
   "name": "python",
   "nbconvert_exporter": "python",
   "pygments_lexer": "ipython3",
   "version": "3.11.2"
  },
  "orig_nbformat": 4
 },
 "nbformat": 4,
 "nbformat_minor": 2
}
