{
 "cells": [
  {
   "cell_type": "code",
   "execution_count": 1,
   "metadata": {},
   "outputs": [],
   "source": [
    "from datetime import datetime, timedelta"
   ]
  },
  {
   "cell_type": "code",
   "execution_count": 2,
   "metadata": {},
   "outputs": [],
   "source": [
    "def cumsum_symbol(level):  # level means the last level for summation\n",
    "    return 11 * level + level * (level+1) * (2*level+1) // 6"
   ]
  },
  {
   "cell_type": "code",
   "execution_count": 3,
   "metadata": {},
   "outputs": [],
   "source": [
    "total_req = cumsum_symbol(19)\n",
    "days = ['월', '화', '수', '목', '금', '토', '일']\n",
    "\n",
    "today = datetime.today()\n",
    "today_year = today.year\n",
    "today_month = today.month\n",
    "today_date = today.day\n",
    "today_day_index = today.weekday()\n",
    "today_day = days[today_day_index]\n",
    "today_string = f'{today_year}. {today_month}. {today_date}.({today_day})'\n"
   ]
  },
  {
   "cell_type": "markdown",
   "metadata": {},
   "source": [
    "+ assumed that all available quests are done"
   ]
  },
  {
   "cell_type": "code",
   "execution_count": 4,
   "metadata": {},
   "outputs": [],
   "source": [
    "def additional_day_calculator(level, count):\n",
    "    current_total = cumsum_symbol(level-1) + count\n",
    "    current_rest = total_req - current_total\n",
    "\n",
    "    if current_rest <= 20*(6-today_day_index):\n",
    "        total_add_day = (current_rest-1) // 20 + 1\n",
    "\n",
    "    else:\n",
    "        total_add_day = 6-today_day_index  # defined\n",
    "        current_rest -= 20 * total_add_day\n",
    "        \n",
    "        total_add_day += (current_rest // 185) * 7  # added\n",
    "        last_week_rest = current_rest % 185\n",
    "\n",
    "        if last_week_rest == 0:\n",
    "            add_day = 0\n",
    "\n",
    "        elif last_week_rest <= 65:\n",
    "            add_day = 1\n",
    "\n",
    "        else:\n",
    "            add_day = (last_week_rest - 66) // 20 + 2\n",
    "\n",
    "        total_add_day += add_day  # added\n",
    "\n",
    "    return total_add_day"
   ]
  },
  {
   "cell_type": "code",
   "execution_count": 18,
   "metadata": {},
   "outputs": [
    {
     "name": "stdout",
     "output_type": "stream",
     "text": [
      "아케인 심볼 정보: 11레벨, 13/132\n"
     ]
    }
   ],
   "source": [
    "check = None\n",
    "while True:\n",
    "    check = input('매주 주간 퀘스트를 수행하는 것을 기준으로 하며, 오늘 일퀘와 이번 주 주퀘는 이미 수행되었다고 가정합니다. \\\n",
    "                확인하셨으면 다음 문구를 정확히 입력해주세요:\\n관련 사항을 확인했습니다.')\n",
    "    if check == '관련 사항을 확인했습니다.':\n",
    "        break\n",
    "    else:\n",
    "        print('똑바로 입력하세요')\n",
    "\n",
    "\n",
    "level = int(input('아케인심볼의 레벨을 입력하세요: '))\n",
    "count = int(input('보유 중인 아케인심볼을 입력하세요: '))\n",
    "\n",
    "print(f'오늘은 {today_string}입니다.')\n",
    "print(f'아케인 심볼 정보: {level:2d}레벨, {count}/{11+level**2}')\n"
   ]
  },
  {
   "cell_type": "code",
   "execution_count": 5,
   "metadata": {},
   "outputs": [],
   "source": [
    "total_add_day = additional_day_calculator(level=11, count=13)"
   ]
  },
  {
   "cell_type": "code",
   "execution_count": 6,
   "metadata": {},
   "outputs": [],
   "source": [
    "end_day = today + timedelta(days=total_add_day)\n",
    "end_year = end_day.year\n",
    "end_month = end_day.month\n",
    "end_date = end_day.day\n",
    "end_day_index = end_day.weekday()\n",
    "end_day = days[end_day_index]\n",
    "end_day_string = f'{end_year}. {end_month}. {end_date}.({end_day})'\n"
   ]
  },
  {
   "cell_type": "code",
   "execution_count": 7,
   "metadata": {},
   "outputs": [
    {
     "name": "stdout",
     "output_type": "stream",
     "text": [
      "오늘은 2023. 9. 1.(금)입니다.\n",
      "총  82일이 남았습니다.\n",
      "심볼 만렙을 찍는 날은 2023. 11. 22.(수)입니다.\n"
     ]
    }
   ],
   "source": [
    "print(f'만렙을 찍기까지 총 {total_add_day:3d}일이 남았습니다.')\n",
    "print(f'심볼 만렙을 찍는 날은 {end_day_string}입니다.')"
   ]
  }
 ],
 "metadata": {
  "kernelspec": {
   "display_name": "kwon",
   "language": "python",
   "name": "python3"
  },
  "language_info": {
   "codemirror_mode": {
    "name": "ipython",
    "version": 3
   },
   "file_extension": ".py",
   "mimetype": "text/x-python",
   "name": "python",
   "nbconvert_exporter": "python",
   "pygments_lexer": "ipython3",
   "version": "3.11.0"
  },
  "orig_nbformat": 4
 },
 "nbformat": 4,
 "nbformat_minor": 2
}
