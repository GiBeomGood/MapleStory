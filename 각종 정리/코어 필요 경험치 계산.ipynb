{
 "cells": [
  {
   "cell_type": "code",
   "execution_count": 1,
   "metadata": {},
   "outputs": [],
   "source": [
    "max_level = {'skill': 25, 'enhance': 15}\n",
    "skill_exp = [55 + 5*i for i in range(24)] # required exp. at each level\n",
    "enhance_exp = [55 + 15*i for i in range(24)] # required exp. at each level\n",
    "exp_chart = {'skill': skill_exp, 'enhance': enhance_exp}\n",
    "\n",
    "def core_calculator(kind, level, exp_percentage):\n",
    "    chart = exp_chart[kind]\n",
    "    exp = int(round(chart[level-1] * exp_percentage / 100, 0))\n",
    "    cum_exp = sum(chart[:level-1]) + exp\n",
    "\n",
    "    for target_level in range(level+1, max_level[kind]+1):\n",
    "        req_exp = sum(chart[:target_level-1])\n",
    "        add_req_exp = req_exp - cum_exp\n",
    "        add_req_core = add_req_exp // 50 + (add_req_exp % 50 != 0)\n",
    "        add_req_exp_core = add_req_exp // 150 + (add_req_exp % 150 != 0)\n",
    "        print(f'레벨 {target_level:2d}: 경험치 {add_req_exp:4d} 필요, 코어 {add_req_core:2d}개 필요, 경코젬 {add_req_exp_core:2d}개 필요')\n",
    "    \n",
    "    return add_req_exp, add_req_core, add_req_exp_core"
   ]
  },
  {
   "cell_type": "code",
   "execution_count": 4,
   "metadata": {},
   "outputs": [
    {
     "name": "stdout",
     "output_type": "stream",
     "text": [
      "레벨 12: 경험치  180 필요, 코어  4개 필요, 경코젬  2개 필요\n",
      "레벨 13: 경험치  400 필요, 코어  8개 필요, 경코젬  3개 필요\n",
      "레벨 14: 경험치  635 필요, 코어 13개 필요, 경코젬  5개 필요\n",
      "레벨 15: 경험치  885 필요, 코어 18개 필요, 경코젬  6개 필요\n"
     ]
    }
   ],
   "source": [
    "add_req_exp, add_req_core, add_req_exp_core = core_calculator('enhance', 11, 12.2)"
   ]
  }
 ],
 "metadata": {
  "kernelspec": {
   "display_name": "kwon",
   "language": "python",
   "name": "python3"
  },
  "language_info": {
   "codemirror_mode": {
    "name": "ipython",
    "version": 3
   },
   "file_extension": ".py",
   "mimetype": "text/x-python",
   "name": "python",
   "nbconvert_exporter": "python",
   "pygments_lexer": "ipython3",
   "version": "3.11.2"
  },
  "orig_nbformat": 4
 },
 "nbformat": 4,
 "nbformat_minor": 2
}
