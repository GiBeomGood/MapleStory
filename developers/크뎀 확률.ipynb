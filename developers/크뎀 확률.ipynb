{
 "cells": [
  {
   "cell_type": "code",
   "execution_count": 1,
   "metadata": {},
   "outputs": [],
   "source": [
    "from itertools import product"
   ]
  },
  {
   "cell_type": "markdown",
   "metadata": {},
   "source": [
    "# 장갑\n",
    "+ special case:\n",
    "+ 쓸윈부 Y Y\n",
    "+ X 쓸윈부 Y\n",
    "+ 무시 무시 Y"
   ]
  },
  {
   "cell_type": "code",
   "execution_count": 2,
   "metadata": {},
   "outputs": [],
   "source": [
    "first = {\n",
    "    'STR : +12%': 0.1,\n",
    "    'DEX : +12%': 0.1,\n",
    "    'INT : +12%': 0.1,\n",
    "    'LUK : +12%': 0.1,\n",
    "    '최대 HP : +12%': 0.1,\n",
    "    '최대 MP : +12%': 0.1,\n",
    "    '크리티컬 데미지 : +8%': 0.1,\n",
    "    '올스탯 : +9%': 0.075,\n",
    "    '피격 시 10% 확률로 데미지의 20% 무시': 0.075,\n",
    "    '피격 시 10% 확률로 데미지의 40% 무시': 0.075,\n",
    "    '<쓸만한 윈드 부스터> 스킬 사용 가능': 0.075,\n",
    "}\n",
    "\n",
    "second = {\n",
    "    'STR : +9%': 1/14,\n",
    "    'DEX : +9%': 1/14,\n",
    "    'INT : +9%': 1/14,\n",
    "    'LUK : +9%': 1/14,\n",
    "    '최대 HP : +9%': 3/35,\n",
    "    '최대 MP : +9%': 3/35,\n",
    "    '올스탯 : +6%': 2/35,\n",
    "    'STR : +32': 1/70,\n",
    "    'DEX : +32': 1/70,\n",
    "    'INT : +32': 1/70,\n",
    "    'LUK : +32': 1/70,\n",
    "    '피격 시 5% 확률로 데미지의 20% 무시': 2/35,\n",
    "    '피격 시 5% 확률로 데미지의 40% 무시': 2/35,\n",
    "    'HP 회복 아이템 및 회복 스킬 효율 : +30%': 2/35,\n",
    "    '<쓸만한 샤프 아이즈> 스킬 사용 가능': 2/35,\n",
    "    'STR : +12%': 0.02,\n",
    "    'DEX : +12%': 0.02,\n",
    "    'INT : +12%': 0.02,\n",
    "    'LUK : +12%': 0.02,\n",
    "    '최대 HP : +12%': 0.02,\n",
    "    '최대 MP : +12%': 0.02,\n",
    "    '크리티컬 데미지 : +8%': 0.02,\n",
    "    '올스탯 : +9%': 0.015,\n",
    "    '피격 시 10% 확률로 데미지의 20% 무시': 0.015,\n",
    "    '피격 시 10% 확률로 데미지의 40% 무시': 0.015,\n",
    "    '<쓸만한 윈드 부스터> 스킬 사용 가능': 0.015,\n",
    "}\n",
    "\n",
    "third = {\n",
    "    'STR : +9%': 0.95/56 * 5,\n",
    "    'DEX : +9%': 0.95/56 * 5,\n",
    "    'INT : +9%': 0.95/56 * 5,\n",
    "    'LUK : +9%': 0.95/56 * 5,\n",
    "    '최대 HP : +9%': 0.95/56 * 6,\n",
    "    '최대 MP : +9%': 0.95/56 * 6,\n",
    "    '올스탯 : +6%': 0.95/56 * 4,\n",
    "    'STR : +32': 0.95/56,\n",
    "    'DEX : +32': 0.95/56,\n",
    "    'INT : +32': 0.95/56,\n",
    "    'LUK : +32': 0.95/56,\n",
    "    '피격 시 5% 확률로 데미지의 20% 무시': 0.95/56 * 4,\n",
    "    '피격 시 5% 확률로 데미지의 40% 무시': 0.95/56 * 4,\n",
    "    'HP 회복 아이템 및 회복 스킬 효율 : +30%': 0.95/56 * 4,\n",
    "    '<쓸만한 샤프 아이즈> 스킬 사용 가능': 0.95/56 * 4,\n",
    "    'STR : +12%': 0.005,\n",
    "    'DEX : +12%': 0.005,\n",
    "    'INT : +12%': 0.005,\n",
    "    'LUK : +12%': 0.005,\n",
    "    '최대 HP : +12%': 0.005,\n",
    "    '최대 MP : +12%': 0.005,\n",
    "    '크리티컬 데미지 : +8%': 0.005,\n",
    "    '올스탯 : +9%': 0.00375,\n",
    "    '피격 시 10% 확률로 데미지의 20% 무시': 0.00375,\n",
    "    '피격 시 10% 확률로 데미지의 40% 무시': 0.00375,\n",
    "    '<쓸만한 윈드 부스터> 스킬 사용 가능': 0.00375,\n",
    "}"
   ]
  },
  {
   "cell_type": "code",
   "execution_count": 3,
   "metadata": {},
   "outputs": [],
   "source": [
    "def glove_pmf_list():\n",
    "    second_without_useful = 1 - sum(second[option] for option in second.keys() if '쓸만한' in option)\n",
    "    third_without_useful = 1 - sum(third[option] for option in third.keys() if '쓸만한' in option)\n",
    "    third_without_ignore = 1 - sum(third[option] for option in third.keys() if '무시' in option)\n",
    "\n",
    "    options_list = product(first.keys(), second.keys(), third.keys())\n",
    "    result = []; result_append = result.append  # 6,800\n",
    "\n",
    "    for options in options_list:\n",
    "        useful_count = sum('쓸만한' in option for option in options)\n",
    "        ignore_count = sum('무시' in option for option in options)\n",
    "        if useful_count >= 2 or ignore_count == 3:\n",
    "            continue\n",
    "        op1, op2, op3 = options\n",
    "\n",
    "        prob1 = first[op1]\n",
    "        prob2 = second[op2]\n",
    "        prob3 = third[op3]\n",
    "\n",
    "        if '쓸만한' in op1:\n",
    "            prob2 /= second_without_useful\n",
    "            prob3 /= third_without_useful\n",
    "        elif '쓸만한' in op2:\n",
    "            prob3 /= third_without_useful\n",
    "        \n",
    "        if ignore_count==2 and '무시' not in op3:  # first, second option is '무시'-like\n",
    "            prob3 /= third_without_ignore\n",
    "\n",
    "        prob = prob1*prob2*prob3\n",
    "\n",
    "        result_append((*options, prob))\n",
    "    \n",
    "    return result"
   ]
  },
  {
   "cell_type": "code",
   "execution_count": 4,
   "metadata": {},
   "outputs": [
    {
     "name": "stdout",
     "output_type": "stream",
     "text": [
      "확률: 0.258%, 기대값:  9,055,766,832\n"
     ]
    }
   ],
   "source": [
    "result = glove_pmf_list()\n",
    "total_prob = 0\n",
    "\n",
    "for (op1, op2, op3, prob) in result:\n",
    "    if sum('크리티컬 데미지' in option for option in (op1, op2, op3)) >= 2:\n",
    "        total_prob += prob\n",
    "\n",
    "print(f'확률: {total_prob:6.3%}, 기대값: {23400000/total_prob:14,.0f}')"
   ]
  },
  {
   "cell_type": "markdown",
   "metadata": {},
   "source": [
    "## conditional probability"
   ]
  },
  {
   "cell_type": "code",
   "execution_count": 5,
   "metadata": {},
   "outputs": [],
   "source": [
    "critical_list = [temp for temp in result if sum('크리티컬 데미지' in option for option in temp[:-1]) >= 1]\n",
    "\n",
    "critical_1_prob = sum(prob for (_, _, _, prob) in critical_list)\n",
    "critical_2_prob = 0\n",
    "for (op1, op2, op3, prob) in critical_list:\n",
    "    if ('크리티컬 데미지' in op2 or '크리티컬 데미지' in op3) and ('크리티컬 데미지' in op1):\n",
    "        critical_2_prob += prob"
   ]
  },
  {
   "cell_type": "code",
   "execution_count": 6,
   "metadata": {},
   "outputs": [
    {
     "data": {
      "text/plain": [
       "0.020333409442219175"
      ]
     },
     "execution_count": 6,
     "metadata": {},
     "output_type": "execute_result"
    }
   ],
   "source": [
    "critical_2_prob / critical_1_prob"
   ]
  }
 ],
 "metadata": {
  "kernelspec": {
   "display_name": "kwon",
   "language": "python",
   "name": "python3"
  },
  "language_info": {
   "codemirror_mode": {
    "name": "ipython",
    "version": 3
   },
   "file_extension": ".py",
   "mimetype": "text/x-python",
   "name": "python",
   "nbconvert_exporter": "python",
   "pygments_lexer": "ipython3",
   "version": "3.11.0"
  }
 },
 "nbformat": 4,
 "nbformat_minor": 2
}
