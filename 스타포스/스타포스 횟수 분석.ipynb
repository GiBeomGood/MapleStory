{
 "cells": [
  {
   "cell_type": "code",
   "execution_count": 1,
   "metadata": {},
   "outputs": [],
   "source": [
    "import numpy as np\n",
    "from numpy.random import choice\n",
    "import pandas as pd\n",
    "from generate_prob_chart import generate_prob_chart"
   ]
  },
  {
   "cell_type": "markdown",
   "metadata": {},
   "source": [
    "Let $X_{i, j}$ be the count of trying StarForce at $j$ while enhancing StarForce $i \\rightarrow i+1$.\n",
    "+ When $i=j$, $X_{i, j} = X_{i, i} = \\frac{1}{p_{i, s}}$.\n",
    "+ When $j < i$,\n",
    "\\begin{align*}\n",
    "    X_{i, j} &= p_{i, r}X_{i, j} + p_{i, f}[ I(j=i-1) + p_{i-1, s}X_{i, j} + p_{i-1, r}(X_{i-1, j}+X_{i, j}) \\\\\n",
    "    &\\quad+ p_{i-1, f}(I(j=i-2)+X_{i-1, j}+X_{i, j}) + p_{i-1, d}(X_{15:i-1, j} + X_{i, j}) ] \\\\\n",
    "    &\\quad+ p_d\\left[ X_{15:i-1, j} + X_{i, j} \\right] \\\\\n",
    "    p_{i, s}X_{i, j} &= X_{i-1, j} p_{i, f}(p_{i-1, r} + p_{i-1, f}) + X_{15:i-1, j}(p_{i, f}p_{i-1, d} + p_{i, d}) \\\\\n",
    "    &\\quad+ p_{i, f}I(j=i-1) + p_{i, f}p_{i-1, f}I(j=i-2)\n",
    "\\end{align*}"
   ]
  },
  {
   "cell_type": "code",
   "execution_count": 2,
   "metadata": {},
   "outputs": [],
   "source": [
    "def count_analysis(starcatch=True, event_15=False, dest_prevention=False):\n",
    "    prob_chart = generate_prob_chart(starcatch, event_15, dest_prevention)\n",
    "    count_chart = np.zeros((13, 13))  # 12->13 ~ 24->25\n",
    "    np.fill_diagonal(count_chart, 1/prob_chart[12:, 0])\n",
    "    count_chart = pd.DataFrame(\n",
    "        count_chart,\n",
    "        index=range(12, 25),\n",
    "        columns=range(12, 25),\n",
    "    )\n",
    "\n",
    "    for start in range(15, 25):\n",
    "        count_chart.loc[start, :start-1] = \\\n",
    "            count_chart.loc[start-1, :start-1] * prob_chart[start, 2] * prob_chart[start-1, [1, 2]].sum() + \\\n",
    "            count_chart.loc[:start-1, :start-1].sum(axis=0) * \\\n",
    "                (prob_chart[start, 2]*prob_chart[start-1, -1]+prob_chart[start, -1])\n",
    "        \n",
    "        count_chart.loc[start, start-2] += prob_chart[start, 2] * prob_chart[start-1, 2]\n",
    "        count_chart.loc[start, start-1] += prob_chart[start, 2]\n",
    "        count_chart.loc[start, :start-1] /= prob_chart[start, 0]\n",
    "\n",
    "    return count_chart\n"
   ]
  },
  {
   "cell_type": "markdown",
   "metadata": {},
   "source": [
    "Let $X_{i, j}$ be the destruction count at $j$ while enhancing StarForce $i \\rightarrow i+1$.\n",
    "\\begin{align*}\n",
    "    X_{i, j} &= p_{i, r}X_{i, j} + p_{i, f} \\\\\n",
    "    &\\quad\\cdot\\left[ p_{i-1, s}X_{i, j} + p_{i-1, r}(X_{i-1, j}+X_{i, j}) + p_{i-1, f}(X_{i-1, j}+X_{i, j}) + p_{i-1, d}(I(j=i-1) + X_{15:i-1, j} + X_{i, j}) \\right] \\\\\n",
    "    &\\quad+ p_d\\left[ I(j=i) + X_{15:i-1, j} + X_{i, j} \\right] \\\\\n",
    "    p_{i, s}X_{i, j} &= X_{i-1, j} p_{i, f}(p_{i-1, r} + p_{i-1, f}) + X_{15:i-1, j}(p_{i, f}p_{i-1, d} + p_{i, d}) + p_{i, d}I(j=i) + p_{i, f}p_{i-1, d}I(j=i-1)\n",
    "\\end{align*}"
   ]
  },
  {
   "cell_type": "code",
   "execution_count": 3,
   "metadata": {},
   "outputs": [],
   "source": [
    "def dest_analysis(starcatch=True, event_15=False, dest_prevention=False):\n",
    "    prob_chart = generate_prob_chart(starcatch, event_15, dest_prevention)\n",
    "    dest_chart = np.zeros((10, 10))  # 15->16 ~ 24->25\n",
    "    np.fill_diagonal(dest_chart, prob_chart[15:, -1]/prob_chart[15:, 0])\n",
    "    dest_chart = pd.DataFrame(\n",
    "        dest_chart,\n",
    "        index=range(15, 25),\n",
    "        columns=range(15, 25),\n",
    "    )\n",
    "\n",
    "    for start in range(16, 25):\n",
    "        dest_chart.loc[start, :start-1] = \\\n",
    "            dest_chart.loc[start-1, :start-1] * prob_chart[start, 2] * prob_chart[start-1, [1, 2]].sum() + \\\n",
    "            dest_chart.loc[:start-1, :start-1].sum(axis=0) * \\\n",
    "                (prob_chart[start, 2]*prob_chart[start-1, -1]+prob_chart[start, -1])\n",
    "        \n",
    "        dest_chart.loc[start, start-1] += prob_chart[start, 2]*prob_chart[start-1, -1]\n",
    "        dest_chart.loc[start, :start-1] /= prob_chart[start, 0]\n",
    "\n",
    "    return dest_chart"
   ]
  },
  {
   "cell_type": "code",
   "execution_count": 4,
   "metadata": {},
   "outputs": [],
   "source": [
    "def overall_analysis(\n",
    "    start, end, analysis_1=15, analysis_2=16,\n",
    "    starcatch=True, event_15=False, dest_prevention=False\n",
    "):\n",
    "    count_chart = count_analysis(starcatch, event_15, dest_prevention).loc[start:end-1, :].sum(axis=0)\n",
    "    dest_chart = dest_analysis(starcatch, event_15, dest_prevention).loc[start:end-1, :].sum(axis=0)\n",
    "\n",
    "    total_count = count_chart.sum()\n",
    "    count_range = count_chart.loc[analysis_1:analysis_2].sum()\n",
    "    count_range_prop = count_range / total_count\n",
    "\n",
    "    total_dest = dest_chart.sum()\n",
    "    dest_range = dest_chart.loc[analysis_1:analysis_2].sum()\n",
    "    dest_range_prop = dest_range / total_dest\n",
    "\n",
    "    bool_to_text = lambda x: \"O\" if x is True else \"X\"\n",
    "    print(f'스타캐치:      {bool_to_text(starcatch)}')\n",
    "    print(f'15+1 이벤트:   {bool_to_text(event_15)}')\n",
    "    print(f'파괴 방지:     {bool_to_text(dest_prevention)}')\n",
    "    print(f'{start:2d}성에서 {end:2d}성까지의 스타포스에 대한 분석은 다음과 같습니다.')\n",
    "    print(f'총 시행 횟수({total_count:6.2f}회)의 {count_range_prop:5.1%}({count_range:6.2f}회)가 '\\\n",
    "          f'{analysis_1} ~ {analysis_2}에서 발생했습니다.')\n",
    "    print(f'총 파괴 횟수({total_dest:6.2f}회)의 {dest_range_prop:5.1%}({dest_range:6.2f}회)가 '\\\n",
    "          f'{analysis_1} ~ {analysis_2}에서 발생했습니다.')\n",
    "\n",
    "    return None\n"
   ]
  },
  {
   "cell_type": "code",
   "execution_count": 5,
   "metadata": {},
   "outputs": [
    {
     "name": "stdout",
     "output_type": "stream",
     "text": [
      "스타캐치:      X\n",
      "15+1 이벤트:   X\n",
      "파괴 방지:     X\n",
      "15성에서 21성까지의 스타포스에 대한 분석은 다음과 같습니다.\n",
      "총 시행 횟수(284.08회)의 66.0%(187.52회)가 15 ~ 16에서 발생했습니다.\n",
      "총 파괴 횟수(  4.98회)의 72.5%(  3.61회)가 15 ~ 16에서 발생했습니다.\n"
     ]
    }
   ],
   "source": [
    "overall_analysis(15, 21, 15, 16, starcatch=False, event_15=False, dest_prevention=False)"
   ]
  },
  {
   "cell_type": "code",
   "execution_count": 6,
   "metadata": {},
   "outputs": [
    {
     "name": "stdout",
     "output_type": "stream",
     "text": [
      "스타캐치:      O\n",
      "15+1 이벤트:   X\n",
      "파괴 방지:     X\n",
      "15성에서 21성까지의 스타포스에 대한 분석은 다음과 같습니다.\n",
      "총 시행 횟수(221.80회)의 64.6%(143.23회)가 15 ~ 16에서 발생했습니다.\n",
      "총 파괴 횟수(  3.87회)의 69.4%(  2.68회)가 15 ~ 16에서 발생했습니다.\n"
     ]
    }
   ],
   "source": [
    "overall_analysis(15, 21, 15, 16, starcatch=True, event_15=False, dest_prevention=False)"
   ]
  },
  {
   "cell_type": "code",
   "execution_count": 7,
   "metadata": {},
   "outputs": [
    {
     "name": "stdout",
     "output_type": "stream",
     "text": [
      "스타캐치:      O\n",
      "15+1 이벤트:   O\n",
      "파괴 방지:     X\n",
      "15성에서 21성까지의 스타포스에 대한 분석은 다음과 같습니다.\n",
      "총 시행 횟수(150.72회)의 57.3%( 86.29회)가 15 ~ 16에서 발생했습니다.\n",
      "총 파괴 횟수(  2.16회)의 45.1%(  0.97회)가 15 ~ 16에서 발생했습니다.\n"
     ]
    }
   ],
   "source": [
    "overall_analysis(15, 21, 15, 16, starcatch=True, event_15=True, dest_prevention=False)"
   ]
  },
  {
   "cell_type": "code",
   "execution_count": 8,
   "metadata": {},
   "outputs": [
    {
     "name": "stdout",
     "output_type": "stream",
     "text": [
      "스타캐치:      O\n",
      "15+1 이벤트:   O\n",
      "파괴 방지:     O\n",
      "15성에서 21성까지의 스타포스에 대한 분석은 다음과 같습니다.\n",
      "총 시행 횟수(142.66회)의 24.3%( 34.65회)가 15 ~ 15에서 발생했습니다.\n",
      "총 파괴 횟수(  1.19회)의  0.0%(  0.00회)가 15 ~ 15에서 발생했습니다.\n"
     ]
    }
   ],
   "source": [
    "overall_analysis(15, 21, 15, 15, starcatch=True, event_15=True, dest_prevention=True)"
   ]
  },
  {
   "cell_type": "code",
   "execution_count": 9,
   "metadata": {},
   "outputs": [
    {
     "name": "stdout",
     "output_type": "stream",
     "text": [
      "스타캐치:      O\n",
      "15+1 이벤트:   O\n",
      "파괴 방지:     O\n",
      "15성에서 21성까지의 스타포스에 대한 분석은 다음과 같습니다.\n",
      "총 시행 횟수(142.66회)의 36.2%( 51.64회)가 16 ~ 16에서 발생했습니다.\n",
      "총 파괴 횟수(  1.19회)의  0.0%(  0.00회)가 16 ~ 16에서 발생했습니다.\n"
     ]
    }
   ],
   "source": [
    "overall_analysis(15, 21, 16, 16, starcatch=True, event_15=True, dest_prevention=True)"
   ]
  },
  {
   "cell_type": "code",
   "execution_count": 10,
   "metadata": {},
   "outputs": [
    {
     "name": "stdout",
     "output_type": "stream",
     "text": [
      "스타캐치:      O\n",
      "15+1 이벤트:   O\n",
      "파괴 방지:     O\n",
      "15성에서 21성까지의 스타포스에 대한 분석은 다음과 같습니다.\n",
      "총 시행 횟수(142.66회)의 60.5%( 86.29회)가 15 ~ 16에서 발생했습니다.\n",
      "총 파괴 횟수(  1.19회)의  0.0%(  0.00회)가 15 ~ 16에서 발생했습니다.\n"
     ]
    }
   ],
   "source": [
    "overall_analysis(15, 21, 15, 16, starcatch=True, event_15=True, dest_prevention=True)"
   ]
  }
 ],
 "metadata": {
  "kernelspec": {
   "display_name": "kwon",
   "language": "python",
   "name": "python3"
  },
  "language_info": {
   "codemirror_mode": {
    "name": "ipython",
    "version": 3
   },
   "file_extension": ".py",
   "mimetype": "text/x-python",
   "name": "python",
   "nbconvert_exporter": "python",
   "pygments_lexer": "ipython3",
   "version": "3.11.2"
  },
  "orig_nbformat": 4
 },
 "nbformat": 4,
 "nbformat_minor": 2
}
