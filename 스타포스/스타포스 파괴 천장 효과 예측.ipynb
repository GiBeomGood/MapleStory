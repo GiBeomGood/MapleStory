{
 "cells": [
  {
   "cell_type": "markdown",
   "metadata": {},
   "source": [
    "+ $X \\sim G(p)$. Then, $\\mathbb{E}(X) = \\frac{1}{p}$.\n",
    "+ $p_X(x) = (1-p)^{x-1}p \\quad (x \\geq 1)$\n",
    "+ Let $C$ be ceiling. Then, expectation changes as:\n",
    "\\begin{align*}\n",
    "    \\mathbb{E}(X) &= \\sum_{i=1}^C xp_X(x) + (C+1) \\cdot P(X \\geq C+1) \\\\\n",
    "    &= p\\sum_{i=1}^C x(1-p)^{x-1} + (C+1) \\cdot (1-p)^C \\\\\n",
    "    &= p \\cdot \\frac{1}{p}\\left[ \\frac{1 - (1-p)^C}{p} - C(1-p)^C \\right] + (C+1) \\cdot (1-p)^C \\\\\n",
    "    &= \\frac{1 - (1-p)^C}{p} + (1-p)^C = \\frac{1}{p} - \\left( \\frac{1}{p}-1 \\right)(1-p)^C \\\\\n",
    "    &= \\frac{1}{p} - \\frac{(1-p)^{C+1}}{p}\n",
    "\\end{align*}\n",
    "\n",
    "+ Hence, Ceiling $C$ reduces the expectation by $\\frac{(1-p)^{C+1}}{p}$, or $100*(1-p)^{C+1}$%."
   ]
  },
  {
   "cell_type": "code",
   "execution_count": 1,
   "metadata": {},
   "outputs": [],
   "source": [
    "import numpy as np\n",
    "import pandas as pd\n",
    "from generate_prob_chart import generate_dest_prob_chart"
   ]
  },
  {
   "cell_type": "code",
   "execution_count": 2,
   "metadata": {},
   "outputs": [
    {
     "name": "stdout",
     "output_type": "stream",
     "text": [
      "mean(ceiling):   8.0222\n",
      "mean(estimated): 8.0222\n",
      "reduced mean:    1.7244, 17.7% reduction\n"
     ]
    }
   ],
   "source": [
    "p = 0.1026\n",
    "ceil = 15\n",
    "mean = 0\n",
    "pmf = lambda x: (1-p) ** (x-1) * p\n",
    "total_prob = 0\n",
    "\n",
    "for x in range(1, ceil+1):\n",
    "    total_prob += pmf(x)\n",
    "    mean += x * pmf(x)\n",
    "\n",
    "mean += (ceil+1) * (1-p)**ceil\n",
    "total_prob += (1-p)**ceil\n",
    "\n",
    "print(f'mean(ceiling):   {mean:.4f}\\nmean(estimated): {1/p-(1-p)**(ceil+1)/p:.4f}')\n",
    "print(f'reduced mean:    {1/p-mean:.4f}, {1-mean*p:.1%} reduction')"
   ]
  },
  {
   "cell_type": "code",
   "execution_count": 3,
   "metadata": {},
   "outputs": [],
   "source": [
    "def ceiling_reduction_analysis(starcatch=False, event_15=False, dest_prevention=False, pretty=False):\n",
    "    dest_prob_chart = generate_dest_prob_chart(starcatch, event_15, dest_prevention, pretty=False)\n",
    "    mean_ceiling = lambda p, ceil: 1/p - (1-p)**(ceil+1)/p\n",
    "    mean_reduction_chart = pd.DataFrame(\n",
    "        np.empty((5, 4)),\n",
    "        columns=['original', 'ceiling', 'reduced', 'reduction %'],\n",
    "        index=range(18, 23)\n",
    "    )\n",
    "    mean_reduction_chart.ceiling = mean_reduction_chart.ceiling.astype(int)\n",
    "\n",
    "    for end in range(18, 23):\n",
    "        dest_prob = dest_prob_chart.loc[end, 15]\n",
    "        ceil = np.ceil(1/dest_prob*1.5).astype(int)\n",
    "        reduced_mean = mean_ceiling(dest_prob, ceil)\n",
    "        reduction_percentage = (1-dest_prob)**(ceil+1)\n",
    "\n",
    "        mean_reduction_chart.loc[end, :] = [1/dest_prob, ceil, reduced_mean, reduction_percentage]\n",
    "    \n",
    "    if pretty is True:\n",
    "        mean_reduction_chart['reduction %'] = mean_reduction_chart['reduction %'].apply(lambda x: f'{x:4.1%}')\n",
    "        mean_reduction_chart.iloc[:, [0, 2]] = mean_reduction_chart.iloc[:, [0, 2]].applymap(lambda x: f'{x:6.4f}')\n",
    "    return mean_reduction_chart"
   ]
  },
  {
   "cell_type": "code",
   "execution_count": 4,
   "metadata": {},
   "outputs": [
    {
     "data": {
      "text/html": [
       "<div>\n",
       "<style scoped>\n",
       "    .dataframe tbody tr th:only-of-type {\n",
       "        vertical-align: middle;\n",
       "    }\n",
       "\n",
       "    .dataframe tbody tr th {\n",
       "        vertical-align: top;\n",
       "    }\n",
       "\n",
       "    .dataframe thead th {\n",
       "        text-align: right;\n",
       "    }\n",
       "</style>\n",
       "<table border=\"1\" class=\"dataframe\">\n",
       "  <thead>\n",
       "    <tr style=\"text-align: right;\">\n",
       "      <th></th>\n",
       "      <th>original</th>\n",
       "      <th>ceiling</th>\n",
       "      <th>reduced</th>\n",
       "      <th>reduction %</th>\n",
       "    </tr>\n",
       "  </thead>\n",
       "  <tbody>\n",
       "    <tr>\n",
       "      <th>18</th>\n",
       "      <td>1.8151</td>\n",
       "      <td>3</td>\n",
       "      <td>1.7413</td>\n",
       "      <td>4.1%</td>\n",
       "    </tr>\n",
       "    <tr>\n",
       "      <th>19</th>\n",
       "      <td>2.8483</td>\n",
       "      <td>5</td>\n",
       "      <td>2.6356</td>\n",
       "      <td>7.5%</td>\n",
       "    </tr>\n",
       "    <tr>\n",
       "      <th>20</th>\n",
       "      <td>4.8480</td>\n",
       "      <td>8</td>\n",
       "      <td>4.2418</td>\n",
       "      <td>12.5%</td>\n",
       "    </tr>\n",
       "    <tr>\n",
       "      <th>21</th>\n",
       "      <td>5.9792</td>\n",
       "      <td>9</td>\n",
       "      <td>5.0202</td>\n",
       "      <td>16.0%</td>\n",
       "    </tr>\n",
       "    <tr>\n",
       "      <th>22</th>\n",
       "      <td>9.7498</td>\n",
       "      <td>15</td>\n",
       "      <td>8.0238</td>\n",
       "      <td>17.7%</td>\n",
       "    </tr>\n",
       "  </tbody>\n",
       "</table>\n",
       "</div>"
      ],
      "text/plain": [
       "   original  ceiling reduced reduction %\n",
       "18   1.8151        3  1.7413        4.1%\n",
       "19   2.8483        5  2.6356        7.5%\n",
       "20   4.8480        8  4.2418       12.5%\n",
       "21   5.9792        9  5.0202       16.0%\n",
       "22   9.7498       15  8.0238       17.7%"
      ]
     },
     "execution_count": 4,
     "metadata": {},
     "output_type": "execute_result"
    }
   ],
   "source": [
    "ceiling_reduction_analysis(pretty=True)"
   ]
  }
 ],
 "metadata": {
  "kernelspec": {
   "display_name": "kwon",
   "language": "python",
   "name": "python3"
  },
  "language_info": {
   "codemirror_mode": {
    "name": "ipython",
    "version": 3
   },
   "file_extension": ".py",
   "mimetype": "text/x-python",
   "name": "python",
   "nbconvert_exporter": "python",
   "pygments_lexer": "ipython3",
   "version": "3.11.0"
  },
  "orig_nbformat": 4
 },
 "nbformat": 4,
 "nbformat_minor": 2
}
